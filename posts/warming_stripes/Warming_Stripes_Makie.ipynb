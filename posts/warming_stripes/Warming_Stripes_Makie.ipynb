{
  "cells": [
    {
      "cell_type": "markdown",
      "metadata": {},
      "source": [
        "# Tutorial: How to generate your own warming stripes using `Julia`\n",
        "\n",
        "In this quick tutorial we learn how to create warming stripes similar to those available at [showyourstripes.info](https://showyourstripes.info).\n",
        "\n",
        "Also, this tutorial serves as an opportunity to become familiar with the `Julia` programming language and some of its packages.\n",
        "\n",
        "Our goal is to get as close as possible to the visual appearance of the famous warming stripes.\n",
        "\n",
        "We will use `Julia` to access and visualize annual air temperature data for Germany provided by [Deutscher Wetterdienst](http://opendata.dwd.de).\n",
        "\n",
        "First, some packages for data handling, processing and visualization have to be loaded.\n",
        "\n",
        "We will download a large CSV file from the web. To this end, we need the packages `CSV` and `Downloads`. Further, we store the data in some kind of a database provided by `DataFrames`.\n",
        "\n",
        "For the processing of the data we need some statistical quantities from the standard `Statistics` package.\n",
        "\n",
        "The package `RollingFunctions` provides tools to smooth temporal data using windowed averages.\n",
        "\n",
        "Finally, we create a custom colormap and plot the data with the `Makie` package.\n"
      ],
      "id": "7f53ab02"
    },
    {
      "cell_type": "code",
      "metadata": {},
      "source": [
        "using CSV\n",
        "using Downloads\n",
        "using DataFrames\n",
        "\n",
        "using Statistics\n",
        "using RollingFunctions\n",
        "\n",
        "using ColorSchemes\n",
        "using CairoMakie"
      ],
      "id": "38c1cb96",
      "execution_count": null,
      "outputs": []
    },
    {
      "cell_type": "markdown",
      "metadata": {},
      "source": [
        "### Color map\n",
        "\n",
        "To get close to the visual style of the warming stripes charts by Ed Hawking, we define a customized colormap.\n",
        "\n",
        "The original [color palette from Wikipedia](https://en.wikipedia.org/wiki/Warming_stripes#/media/File:20180522_Color_palette_for_warming_stripes_-_ColorBrewer_9-class_single_hue.svg) provides the required color codes for the blue-white-red colormap.\n"
      ],
      "id": "4b4d0b92"
    },
    {
      "cell_type": "code",
      "metadata": {},
      "source": [
        "wstripesmap = cgrad([\n",
        "        \"#08306b\", \"#08519c\", \"#2171b5\", \"#4292c6\", \n",
        "        \"#6baed6\", \"#9ecae1\", \"#c6dbef\", \"#deebf7\",\n",
        "        \"#ffffff\",\n",
        "        \"#fee0d2\", \"#fcbba1\", \"#fc9272\", \"#fb6a4a\",\n",
        "        \"#ef3b2c\", \"#cb181d\", \"#a50f15\", \"#67000d\"],\n",
        "    categorical=true);\n",
        "wstripesmap"
      ],
      "id": "dbdc138e",
      "execution_count": null,
      "outputs": []
    },
    {
      "cell_type": "markdown",
      "metadata": {},
      "source": [
        "## Data access\n",
        "\n",
        "We load data from a URL and store everything in a database structure known as a *DataFrame*.\n"
      ],
      "id": "428c0010"
    },
    {
      "cell_type": "code",
      "metadata": {},
      "source": [
        "url = \"https://opendata.dwd.de/climate_environment/CDC/regional_averages_DE/annual/air_temperature_mean/regional_averages_tm_year.txt\"\n",
        "http_response = Downloads.download(url)\n",
        "df = CSV.File(http_response, header=2, delim=\";\") |> DataFrame;"
      ],
      "id": "59b7babe",
      "execution_count": null,
      "outputs": []
    },
    {
      "cell_type": "markdown",
      "metadata": {},
      "source": [
        "## Baseline data and long-term statistics\n",
        "\n",
        "As a baseline we need the average over sufficiently many years. We choose temperature data from the years 1971 to 2000 and calculate the mean temperature.\n",
        "\n",
        "Further, we need the standard deviation of the long-term temperature data from 1901 to 2000.\n",
        "\n",
        "A smoothed data set based on a running mean is generated with an averaging window of 30 years length.\n"
      ],
      "id": "fafd3145"
    },
    {
      "cell_type": "code",
      "metadata": {},
      "source": [
        "df_baseline = filter(row -> (row.Jahr > 1970) & (row.Jahr < 2001), df)\n",
        "where = \"Deutschland\"\n",
        "col = df_baseline[!, where];\n",
        "mw = mean(col)\n",
        "\n",
        "df_longterm = filter(row -> (row.Jahr > 1900) & (row.Jahr < 2001), df)\n",
        "col = df_longterm[!, where];\n",
        "sd = std(col)\n",
        "\n",
        "data = df[!, where] .- mw;\n",
        "m_data = runmean(data, 30);"
      ],
      "id": "4e2787a6",
      "execution_count": null,
      "outputs": []
    },
    {
      "cell_type": "markdown",
      "metadata": {},
      "source": [
        "## Visualization\n",
        "\n",
        "In the following code cell, we use `Makie` to generate a bar chart with annual temperature data relative to the baseline average of 1971 to 2000. The colormap is scaled to +/- 2.6 times the standard deviation of the long-term data from 1901 to 2000 (see *How have these graphics been made?* in the [FAQ at showyourstripes.info](https://showyourstripes.info/faq)).\n",
        "\n",
        "We add as white line the smoothed temperature obtained by calculating running averages with a time window of 30 years length.\n",
        "\n",
        "There is no doubt that the average temperature relative to the baseline data is approaching far more than 1.5 K (or 1.5 °C as it is commonly communicated) for the recent two decades since year 2000.\n"
      ],
      "id": "603d7228"
    },
    {
      "cell_type": "code",
      "metadata": {},
      "source": [
        "set_theme!(theme_black())\n",
        "fig = Figure(resolution = (1000, 540), fonts = (; regular= \"sans\"))\n",
        "ax = Axis(fig[1, 1], \n",
        "    title = \"Temperature change in Germany relative to average of 1970-2001\",\n",
        "    ylabel = \"K\",\n",
        "    xautolimitmargin = (0.02,0.02),\n",
        "    yautolimitmargin = (0.02,0.02))\n",
        "barplot!(ax, df.Jahr, data; width=1, gap=0, \n",
        "    strokewidth = 0.5, strokecolor = data,\n",
        "    color = data, \n",
        "    colorrange = (-2.6 * sd, +2.6 * sd),\n",
        "    colormap = wstripesmap)\n",
        "lines!(ax, df.Jahr, m_data, color=:white)\n",
        "text!(\"Data source: http://opendata.dwd.de\\n\" * \n",
        "    \"https://showyourstripes.info by Ed Hawkins, University of Reading, UK\", \n",
        "    fontsize=10,\n",
        "    align=(:left, :center),\n",
        "    position = (1880, -1.84))\n",
        "text!(\"The white curve indicates a running average\\n\" *\n",
        "    \"with a window length of 30 years.\",\n",
        "    fontsize = 10,\n",
        "    align=(:left, :center),\n",
        "    position=(1990, -1.84))\n",
        "fig"
      ],
      "id": "a35dfb92",
      "execution_count": null,
      "outputs": []
    },
    {
      "cell_type": "markdown",
      "metadata": {},
      "source": [
        "The next cell generates the well-known warming stripes for Germany.\n"
      ],
      "id": "e6e190b8"
    },
    {
      "cell_type": "code",
      "metadata": {},
      "source": [
        "set_theme!(theme_minimal())\n",
        "fig = Figure(resolution = (780, 120))\n",
        "ax = Axis(fig[1, 1],\n",
        "backgroundcolor = :transparent,\n",
        "        leftspinevisible = false,\n",
        "        rightspinevisible = false,\n",
        "        bottomspinevisible = false,\n",
        "        topspinevisible = false,\n",
        "        xticklabelsvisible = false, \n",
        "        yticklabelsvisible = false,\n",
        "        xgridcolor = :transparent,\n",
        "        ygridcolor = :transparent,\n",
        "        xminorticksvisible = false,\n",
        "        yminorticksvisible = false,\n",
        "        xticksvisible = false,\n",
        "        yticksvisible = false,\n",
        "        xautolimitmargin = (0.0,0.0),\n",
        "        yautolimitmargin = (0.0,0.0),)\n",
        "hidedecorations!(ax)\n",
        "ax.titlevisible=false\n",
        "hmap = heatmap!(df.Jahr, ones(size(df.Jahr)), data;\n",
        "    colorrange = (-2.6 * sd, +2.6 * sd), \n",
        "    colormap = wstripesmap)\n",
        "fig"
      ],
      "id": "16520936",
      "execution_count": null,
      "outputs": []
    }
  ],
  "metadata": {
    "kernelspec": {
      "name": "julia-1.8",
      "language": "julia",
      "display_name": "Julia 1.8.5"
    }
  },
  "nbformat": 4,
  "nbformat_minor": 5
}